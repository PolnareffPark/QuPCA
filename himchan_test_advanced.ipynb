{
 "cells": [
  {
   "cell_type": "code",
   "execution_count": 1,
   "id": "8f5e580b-e55d-4361-9c02-9389a1e480b4",
   "metadata": {},
   "outputs": [],
   "source": [
    "from qiskit_ibm_runtime import QiskitRuntimeService\n",
    "\n",
    "token = '18084cb8c91eee736662c2f23065983acf97af6734e14355c78b8e424c4d0f480efc8b254aff7586b13810c48eb71baf384d26bc382aad7017cec64e857fbae3'\n",
    "\n",
    "service = QiskitRuntimeService(\n",
    "    channel='ibm_quantum',\n",
    "    instance='yonsei-dedicated/internal/ymsphdcandid',\n",
    "    token=token\n",
    ")\n",
    "\n",
    "# Or save your credentials on disk.\n",
    "# QiskitRuntimeService.save_account(channel='ibm_quantum', instance='yonsei-dedicated/internal/ymsphdcandid', token='<IBM Quantum API key>')"
   ]
  },
  {
   "cell_type": "code",
   "execution_count": 2,
   "id": "6d4c3db3-36c5-453d-8552-0feee219bbcc",
   "metadata": {},
   "outputs": [],
   "source": [
    "from QPCA.decomposition.Qpca import QPCA\n",
    "import numpy as np\n",
    "import matplotlib.pyplot as plt\n",
    "import random\n",
    "import pandas as pd\n",
    "import pickle \n",
    "from QPCA.preprocessingUtilities.preprocessing import generate_matrix\n",
    "from QPCA.benchmark.benchmark import *"
   ]
  },
  {
   "cell_type": "markdown",
   "id": "edef0101-6b41-47e6-bf6f-56f20dcf8a25",
   "metadata": {},
   "source": [
    "-----"
   ]
  },
  {
   "cell_type": "markdown",
   "id": "f52d1d9e-8165-4123-9443-e950c70ff589",
   "metadata": {},
   "source": [
    "qPCA 실행 시 사용하는 큐비트 수에 따른 정확도 향상 수준 평가"
   ]
  },
  {
   "cell_type": "code",
   "execution_count": null,
   "id": "d75fed7c-79dc-41aa-8a6f-ba92d4dbf915",
   "metadata": {
    "scrolled": true
   },
   "outputs": [
    {
     "name": "stdout",
     "output_type": "stream",
     "text": [
      "Matrix:\n",
      " [[0.37 0.18 0.12 0.12]\n",
      " [0.18 0.17 0.08 0.09]\n",
      " [0.12 0.08 0.13 0.15]\n",
      " [0.12 0.09 0.15 0.33]]\n",
      "\n",
      "eigenvalue: 0.03999999999999997 - eigenvector: [ 0.043  0.284 -0.892  0.348]\n",
      "eigenvalue: 0.059999999999999866 - eigenvector: [-0.5    0.833  0.182 -0.152]\n",
      "eigenvalue: 0.24999999999999978 - eigenvector: [-0.564 -0.241  0.194  0.765]\n",
      "eigenvalue: 0.6499999999999997 - eigenvector: [-0.656 -0.409 -0.364 -0.52 ]\n"
     ]
    },
    {
     "name": "stderr",
     "output_type": "stream",
     "text": [
      "Evaluating QPCA accuracy for various resolutions:   0%|                                         | 0/11 [00:00<?, ?it/s]You chose 2 qubits of resolution. Moreover, since with 2 qubits you have an accuracy of 0.25, if you know that some eigenvalues are smaller or closer to each other than 0.25, please increase the resolution qubits to get better estimates.\n",
      "The extraction of the eigenvalues is taking longer than expected. You may need to restart the execution increasing the number of resolution qubits and/or the number of shots.\n",
      "You set an absolute tolerance of 2e-05. If some output eigenvalues are not the expected ones, it is recommended to increase the absolute tolerance to cut away the noisy eigenvalues.\n",
      "Evaluating QPCA accuracy for various resolutions:   9%|███                              | 1/11 [00:31<05:10, 31.05s/it]You chose 3 qubits of resolution. Moreover, since with 3 qubits you have an accuracy of 0.125, if you know that some eigenvalues are smaller or closer to each other than 0.125, please increase the resolution qubits to get better estimates.\n"
     ]
    },
    {
     "name": "stdout",
     "output_type": "stream",
     "text": [
      "Resolution: 2 - 예상치 못한 eigenvalue 반환: []\n",
      "Resolution: 2, 추정 eigenvalues: [], 오차: nan\n"
     ]
    },
    {
     "name": "stderr",
     "output_type": "stream",
     "text": [
      "You set an absolute tolerance of 2e-05. If some output eigenvalues are not the expected ones, it is recommended to increase the absolute tolerance to cut away the noisy eigenvalues.\n",
      "Evaluating QPCA accuracy for various resolutions:  18%|██████                           | 2/11 [00:33<02:05, 13.94s/it]You chose 4 qubits of resolution. Moreover, since with 4 qubits you have an accuracy of 0.0625, if you know that some eigenvalues are smaller or closer to each other than 0.0625, please increase the resolution qubits to get better estimates.\n"
     ]
    },
    {
     "name": "stdout",
     "output_type": "stream",
     "text": [
      "Resolution: 3 - 예상치 못한 eigenvalue 반환: [0.625 0.25 ]\n",
      "Resolution: 3, 추정 eigenvalues: [0.625 0.25 ], 오차: nan\n"
     ]
    },
    {
     "name": "stderr",
     "output_type": "stream",
     "text": [
      "You set an absolute tolerance of 2e-05. If some output eigenvalues are not the expected ones, it is recommended to increase the absolute tolerance to cut away the noisy eigenvalues.\n",
      "Evaluating QPCA accuracy for various resolutions:  27%|█████████                        | 3/11 [00:37<01:15,  9.46s/it]You chose 5 qubits of resolution. Moreover, since with 5 qubits you have an accuracy of 0.03125, if you know that some eigenvalues are smaller or closer to each other than 0.03125, please increase the resolution qubits to get better estimates.\n"
     ]
    },
    {
     "name": "stdout",
     "output_type": "stream",
     "text": [
      "Resolution: 4 - 예상치 못한 eigenvalue 반환: [0.625  0.25   0.0625]\n",
      "Resolution: 4, 추정 eigenvalues: [0.625  0.25   0.0625], 오차: nan\n"
     ]
    },
    {
     "name": "stderr",
     "output_type": "stream",
     "text": [
      "You set an absolute tolerance of 2e-05. If some output eigenvalues are not the expected ones, it is recommended to increase the absolute tolerance to cut away the noisy eigenvalues.\n",
      "Evaluating QPCA accuracy for various resolutions:  36%|████████████                     | 4/11 [00:46<01:04,  9.24s/it]You chose 6 qubits of resolution. Moreover, since with 6 qubits you have an accuracy of 0.015625, if you know that some eigenvalues are smaller or closer to each other than 0.015625, please increase the resolution qubits to get better estimates.\n"
     ]
    },
    {
     "name": "stdout",
     "output_type": "stream",
     "text": [
      "Resolution: 5, 추정 eigenvalues: [0.65625 0.25    0.03125 0.34375], 오차: 0.305172\n"
     ]
    },
    {
     "name": "stderr",
     "output_type": "stream",
     "text": [
      "You set an absolute tolerance of 2e-05. If some output eigenvalues are not the expected ones, it is recommended to increase the absolute tolerance to cut away the noisy eigenvalues.\n",
      "Evaluating QPCA accuracy for various resolutions:  45%|███████████████                  | 5/11 [01:06<01:18, 13.13s/it]You chose 7 qubits of resolution. Moreover, since with 7 qubits you have an accuracy of 0.0078125, if you know that some eigenvalues are smaller or closer to each other than 0.0078125, please increase the resolution qubits to get better estimates.\n"
     ]
    },
    {
     "name": "stdout",
     "output_type": "stream",
     "text": [
      "Resolution: 6, 추정 eigenvalues: [0.65625  0.25     0.046875 0.84375 ], 오차: 0.803881\n"
     ]
    },
    {
     "name": "stderr",
     "output_type": "stream",
     "text": [
      "You set an absolute tolerance of 2e-05. If some output eigenvalues are not the expected ones, it is recommended to increase the absolute tolerance to cut away the noisy eigenvalues.\n",
      "Evaluating QPCA accuracy for various resolutions:  55%|██████████████████               | 6/11 [01:51<02:00, 24.10s/it]"
     ]
    },
    {
     "name": "stdout",
     "output_type": "stream",
     "text": [
      "Resolution: 7, 추정 eigenvalues: [0.6484375 0.25      0.0390625 0.0625   ], 오차: 0.030775\n"
     ]
    },
    {
     "name": "stderr",
     "output_type": "stream",
     "text": [
      "You set an absolute tolerance of 2e-05. If some output eigenvalues are not the expected ones, it is recommended to increase the absolute tolerance to cut away the noisy eigenvalues.\n",
      "Evaluating QPCA accuracy for various resolutions:  64%|█████████████████████            | 7/11 [03:37<03:24, 51.03s/it]"
     ]
    },
    {
     "name": "stdout",
     "output_type": "stream",
     "text": [
      "Resolution: 8, 추정 eigenvalues: [0.6484375  0.25       0.0390625  0.05859375], 오차: 0.028045\n"
     ]
    },
    {
     "name": "stderr",
     "output_type": "stream",
     "text": [
      "You set an absolute tolerance of 2e-05. If some output eigenvalues are not the expected ones, it is recommended to increase the absolute tolerance to cut away the noisy eigenvalues.\n",
      "Evaluating QPCA accuracy for various resolutions:  73%|███████████████████████▎        | 8/11 [07:48<05:43, 114.64s/it]"
     ]
    },
    {
     "name": "stdout",
     "output_type": "stream",
     "text": [
      "Resolution: 9, 추정 eigenvalues: [0.65039062 0.25       0.06054688 0.0390625 ], 오차: 0.001154\n"
     ]
    },
    {
     "name": "stderr",
     "output_type": "stream",
     "text": [
      "You set an absolute tolerance of 2e-05. If some output eigenvalues are not the expected ones, it is recommended to increase the absolute tolerance to cut away the noisy eigenvalues.\n",
      "Evaluating QPCA accuracy for various resolutions:  82%|██████████████████████████▏     | 9/11 [51:46<30:06, 903.46s/it]"
     ]
    },
    {
     "name": "stdout",
     "output_type": "stream",
     "text": [
      "Resolution: 10, 추정 eigenvalues: [0.65039062 0.25       0.04003906 0.05957031], 오차: 0.027957\n"
     ]
    }
   ],
   "source": [
    "import time\n",
    "import numpy as np\n",
    "from tqdm import tqdm\n",
    "import matplotlib.pyplot as plt\n",
    "\n",
    "# 초기 설정\n",
    "seed = 7000\n",
    "matrix_dimension = 4\n",
    "# generate_matrix에 전달할 때는 리스트로 사용\n",
    "eigenvalues_list_for_matrix = [0.65, 0.25, 0.06, 0.04]\n",
    "# NumPy 연산을 위해 별도로 배열 생성\n",
    "eigenvalues_array = np.array(eigenvalues_list_for_matrix)\n",
    "\n",
    "resolutions = [2, 3, 4, 5, 6, 7, 8, 9, 10, 11, 12]\n",
    "n_shots = 50000\n",
    "n_repetitions = 1\n",
    "\n",
    "# 리스트를 사용하여 매트릭스 생성\n",
    "input_matrix = generate_matrix(matrix_dimension=matrix_dimension,\n",
    "                               replicate_paper=False,\n",
    "                               seed=seed,\n",
    "                               eigenvalues_list=eigenvalues_list_for_matrix)\n",
    "\n",
    "resolution_list = []\n",
    "errors = []\n",
    "\n",
    "for res in tqdm(resolutions, desc=\"Evaluating QPCA accuracy for various resolutions\"):\n",
    "    qpca = QPCA().fit(input_matrix, resolution=res)\n",
    "    \n",
    "    estimated_eig, _ = qpca.eigenvectors_reconstruction(n_shots=n_shots,\n",
    "                                                      n_repetitions=n_repetitions,\n",
    "                                                      plot_peaks=False)\n",
    "    # estimated_eig가 리스트라면 NumPy 배열로 변환\n",
    "    if isinstance(estimated_eig, list):\n",
    "        estimated_eig = np.array(estimated_eig)\n",
    "    \n",
    "    # estimated_eig의 유효성 검사\n",
    "    if not hasattr(estimated_eig, 'size') or estimated_eig.size != eigenvalues_array.size:\n",
    "        tqdm.write(f\"Resolution: {res} - 예상치 못한 eigenvalue 반환: {estimated_eig}\")\n",
    "        error = np.nan\n",
    "    else:\n",
    "        error = np.linalg.norm(estimated_eig - eigenvalues_array)\n",
    "    \n",
    "    resolution_list.append(res)\n",
    "    errors.append(error)\n",
    "    \n",
    "    tqdm.write(f\"Resolution: {res}, 추정 eigenvalues: {estimated_eig}, 오차: {error:.6f}\")\n",
    "    \n",
    "# 해상도에 따른 오차 변화 시각화\n",
    "plt.figure(figsize=(8, 5))\n",
    "plt.plot(resolution_list, errors, marker='o')\n",
    "plt.title('해상도에 따른 QPCA eigenvalue 추정 오차')\n",
    "plt.xlabel('해상도 (Resolution)')\n",
    "plt.ylabel('추정 오차 (L2 norm)')\n",
    "plt.grid(True)\n",
    "plt.show()\n"
   ]
  },
  {
   "cell_type": "code",
   "execution_count": null,
   "id": "f1e52669-fb1c-46c3-aea5-a4b58bed36e7",
   "metadata": {},
   "outputs": [],
   "source": []
  }
 ],
 "metadata": {
  "kernelspec": {
   "display_name": "Python 3 (ipykernel)",
   "language": "python",
   "name": "python3"
  },
  "language_info": {
   "codemirror_mode": {
    "name": "ipython",
    "version": 3
   },
   "file_extension": ".py",
   "mimetype": "text/x-python",
   "name": "python",
   "nbconvert_exporter": "python",
   "pygments_lexer": "ipython3",
   "version": "3.9.12"
  }
 },
 "nbformat": 4,
 "nbformat_minor": 5
}
